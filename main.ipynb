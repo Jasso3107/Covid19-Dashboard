{
  "cells": [
    {
      "cell_type": "markdown",
      "metadata": {
        "id": "M--XHML-r7XX"
      },
      "source": [
        "# COVID-19 Dashboard"
      ]
    },
    {
      "cell_type": "markdown",
      "metadata": {
        "id": "6cJc-9fXr7Xl"
      },
      "source": [
        "### Dependencies"
      ]
    },
    {
      "cell_type": "code",
      "execution_count": 1,
      "metadata": {
        "colab": {
          "base_uri": "https://localhost:8080/"
        },
        "id": "8VXToayPr7Xo",
        "outputId": "fb1300e3-d8fa-4cb0-ffea-07792f05bcc0"
      },
      "outputs": [
        {
          "output_type": "stream",
          "name": "stdout",
          "text": [
            "Requirement already satisfied: plotly in /usr/local/lib/python3.7/dist-packages (5.5.0)\n",
            "Requirement already satisfied: six in /usr/local/lib/python3.7/dist-packages (from plotly) (1.15.0)\n",
            "Requirement already satisfied: tenacity>=6.2.0 in /usr/local/lib/python3.7/dist-packages (from plotly) (8.0.1)\n"
          ]
        }
      ],
      "source": [
        "!pip install plotly"
      ]
    },
    {
      "cell_type": "code",
      "execution_count": 2,
      "metadata": {
        "colab": {
          "base_uri": "https://localhost:8080/"
        },
        "id": "5SliZBnor7Xv",
        "outputId": "a1ad0493-a7a6-4f2e-d822-31ad73a21cbc"
      },
      "outputs": [
        {
          "output_type": "stream",
          "name": "stdout",
          "text": [
            "Collecting dash\n",
            "  Downloading dash-2.4.1-py3-none-any.whl (9.8 MB)\n",
            "\u001b[K     |████████████████████████████████| 9.8 MB 12.9 MB/s \n",
            "\u001b[?25hCollecting dash-core-components==2.0.0\n",
            "  Downloading dash_core_components-2.0.0-py3-none-any.whl (3.8 kB)\n",
            "Collecting dash-html-components==2.0.0\n",
            "  Downloading dash_html_components-2.0.0-py3-none-any.whl (4.1 kB)\n",
            "Requirement already satisfied: Flask>=1.0.4 in /usr/local/lib/python3.7/dist-packages (from dash) (1.1.4)\n",
            "Collecting flask-compress\n",
            "  Downloading Flask_Compress-1.12-py3-none-any.whl (7.9 kB)\n",
            "Collecting dash-table==5.0.0\n",
            "  Downloading dash_table-5.0.0-py3-none-any.whl (3.9 kB)\n",
            "Requirement already satisfied: plotly>=5.0.0 in /usr/local/lib/python3.7/dist-packages (from dash) (5.5.0)\n",
            "Requirement already satisfied: itsdangerous<2.0,>=0.24 in /usr/local/lib/python3.7/dist-packages (from Flask>=1.0.4->dash) (1.1.0)\n",
            "Requirement already satisfied: click<8.0,>=5.1 in /usr/local/lib/python3.7/dist-packages (from Flask>=1.0.4->dash) (7.1.2)\n",
            "Requirement already satisfied: Jinja2<3.0,>=2.10.1 in /usr/local/lib/python3.7/dist-packages (from Flask>=1.0.4->dash) (2.11.3)\n",
            "Requirement already satisfied: Werkzeug<2.0,>=0.15 in /usr/local/lib/python3.7/dist-packages (from Flask>=1.0.4->dash) (1.0.1)\n",
            "Requirement already satisfied: MarkupSafe>=0.23 in /usr/local/lib/python3.7/dist-packages (from Jinja2<3.0,>=2.10.1->Flask>=1.0.4->dash) (2.0.1)\n",
            "Requirement already satisfied: six in /usr/local/lib/python3.7/dist-packages (from plotly>=5.0.0->dash) (1.15.0)\n",
            "Requirement already satisfied: tenacity>=6.2.0 in /usr/local/lib/python3.7/dist-packages (from plotly>=5.0.0->dash) (8.0.1)\n",
            "Collecting brotli\n",
            "  Downloading Brotli-1.0.9-cp37-cp37m-manylinux1_x86_64.whl (357 kB)\n",
            "\u001b[K     |████████████████████████████████| 357 kB 73.1 MB/s \n",
            "\u001b[?25hInstalling collected packages: brotli, flask-compress, dash-table, dash-html-components, dash-core-components, dash\n",
            "Successfully installed brotli-1.0.9 dash-2.4.1 dash-core-components-2.0.0 dash-html-components-2.0.0 dash-table-5.0.0 flask-compress-1.12\n"
          ]
        }
      ],
      "source": [
        "!pip install dash"
      ]
    },
    {
      "cell_type": "code",
      "execution_count": 3,
      "metadata": {
        "colab": {
          "base_uri": "https://localhost:8080/"
        },
        "id": "9dDtlAO5r7Xy",
        "outputId": "16bc5523-30c9-4dd6-f697-d866e3b945ed"
      },
      "outputs": [
        {
          "output_type": "stream",
          "name": "stdout",
          "text": [
            "Collecting dash_bootstrap_components\n",
            "  Downloading dash_bootstrap_components-1.1.0-py3-none-any.whl (210 kB)\n",
            "\u001b[?25l\r\u001b[K     |█▋                              | 10 kB 24.0 MB/s eta 0:00:01\r\u001b[K     |███▏                            | 20 kB 31.4 MB/s eta 0:00:01\r\u001b[K     |████▊                           | 30 kB 25.0 MB/s eta 0:00:01\r\u001b[K     |██████▎                         | 40 kB 13.7 MB/s eta 0:00:01\r\u001b[K     |███████▉                        | 51 kB 12.1 MB/s eta 0:00:01\r\u001b[K     |█████████▍                      | 61 kB 14.2 MB/s eta 0:00:01\r\u001b[K     |███████████                     | 71 kB 13.4 MB/s eta 0:00:01\r\u001b[K     |████████████▌                   | 81 kB 11.2 MB/s eta 0:00:01\r\u001b[K     |██████████████                  | 92 kB 12.4 MB/s eta 0:00:01\r\u001b[K     |███████████████▋                | 102 kB 12.6 MB/s eta 0:00:01\r\u001b[K     |█████████████████▏              | 112 kB 12.6 MB/s eta 0:00:01\r\u001b[K     |██████████████████▊             | 122 kB 12.6 MB/s eta 0:00:01\r\u001b[K     |████████████████████▎           | 133 kB 12.6 MB/s eta 0:00:01\r\u001b[K     |█████████████████████▉          | 143 kB 12.6 MB/s eta 0:00:01\r\u001b[K     |███████████████████████▍        | 153 kB 12.6 MB/s eta 0:00:01\r\u001b[K     |█████████████████████████       | 163 kB 12.6 MB/s eta 0:00:01\r\u001b[K     |██████████████████████████▌     | 174 kB 12.6 MB/s eta 0:00:01\r\u001b[K     |████████████████████████████    | 184 kB 12.6 MB/s eta 0:00:01\r\u001b[K     |█████████████████████████████▋  | 194 kB 12.6 MB/s eta 0:00:01\r\u001b[K     |███████████████████████████████▏| 204 kB 12.6 MB/s eta 0:00:01\r\u001b[K     |████████████████████████████████| 210 kB 12.6 MB/s \n",
            "\u001b[?25hRequirement already satisfied: dash>=2.0.0 in /usr/local/lib/python3.7/dist-packages (from dash_bootstrap_components) (2.4.1)\n",
            "Requirement already satisfied: flask-compress in /usr/local/lib/python3.7/dist-packages (from dash>=2.0.0->dash_bootstrap_components) (1.12)\n",
            "Requirement already satisfied: dash-core-components==2.0.0 in /usr/local/lib/python3.7/dist-packages (from dash>=2.0.0->dash_bootstrap_components) (2.0.0)\n",
            "Requirement already satisfied: dash-table==5.0.0 in /usr/local/lib/python3.7/dist-packages (from dash>=2.0.0->dash_bootstrap_components) (5.0.0)\n",
            "Requirement already satisfied: Flask>=1.0.4 in /usr/local/lib/python3.7/dist-packages (from dash>=2.0.0->dash_bootstrap_components) (1.1.4)\n",
            "Requirement already satisfied: dash-html-components==2.0.0 in /usr/local/lib/python3.7/dist-packages (from dash>=2.0.0->dash_bootstrap_components) (2.0.0)\n",
            "Requirement already satisfied: plotly>=5.0.0 in /usr/local/lib/python3.7/dist-packages (from dash>=2.0.0->dash_bootstrap_components) (5.5.0)\n",
            "Requirement already satisfied: click<8.0,>=5.1 in /usr/local/lib/python3.7/dist-packages (from Flask>=1.0.4->dash>=2.0.0->dash_bootstrap_components) (7.1.2)\n",
            "Requirement already satisfied: Werkzeug<2.0,>=0.15 in /usr/local/lib/python3.7/dist-packages (from Flask>=1.0.4->dash>=2.0.0->dash_bootstrap_components) (1.0.1)\n",
            "Requirement already satisfied: Jinja2<3.0,>=2.10.1 in /usr/local/lib/python3.7/dist-packages (from Flask>=1.0.4->dash>=2.0.0->dash_bootstrap_components) (2.11.3)\n",
            "Requirement already satisfied: itsdangerous<2.0,>=0.24 in /usr/local/lib/python3.7/dist-packages (from Flask>=1.0.4->dash>=2.0.0->dash_bootstrap_components) (1.1.0)\n",
            "Requirement already satisfied: MarkupSafe>=0.23 in /usr/local/lib/python3.7/dist-packages (from Jinja2<3.0,>=2.10.1->Flask>=1.0.4->dash>=2.0.0->dash_bootstrap_components) (2.0.1)\n",
            "Requirement already satisfied: tenacity>=6.2.0 in /usr/local/lib/python3.7/dist-packages (from plotly>=5.0.0->dash>=2.0.0->dash_bootstrap_components) (8.0.1)\n",
            "Requirement already satisfied: six in /usr/local/lib/python3.7/dist-packages (from plotly>=5.0.0->dash>=2.0.0->dash_bootstrap_components) (1.15.0)\n",
            "Requirement already satisfied: brotli in /usr/local/lib/python3.7/dist-packages (from flask-compress->dash>=2.0.0->dash_bootstrap_components) (1.0.9)\n",
            "Installing collected packages: dash-bootstrap-components\n",
            "Successfully installed dash-bootstrap-components-1.1.0\n"
          ]
        }
      ],
      "source": [
        "!pip install dash_bootstrap_components"
      ]
    },
    {
      "cell_type": "code",
      "execution_count": 4,
      "metadata": {
        "id": "vdl_tRxPr7X1",
        "colab": {
          "base_uri": "https://localhost:8080/"
        },
        "outputId": "48b43d82-867b-427f-9a2c-53599fcb5434"
      },
      "outputs": [
        {
          "output_type": "stream",
          "name": "stderr",
          "text": [
            "/usr/local/lib/python3.7/dist-packages/ipykernel_launcher.py:5: UserWarning: \n",
            "The dash_core_components package is deprecated. Please replace\n",
            "`import dash_core_components as dcc` with `from dash import dcc`\n",
            "  \"\"\"\n",
            "/usr/local/lib/python3.7/dist-packages/ipykernel_launcher.py:6: UserWarning: \n",
            "The dash_html_components package is deprecated. Please replace\n",
            "`import dash_html_components as html` with `from dash import html`\n",
            "  \n"
          ]
        }
      ],
      "source": [
        "import pandas as pd\n",
        "import plotly.express as px\n",
        "import plotly.io as pio\n",
        "import dash\n",
        "import dash_core_components as dcc\n",
        "import dash_html_components as html\n",
        "import dash_bootstrap_components as dbc\n",
        "from dash.dependencies import Input, Output\n",
        "pio.renderers.default = \"browser\""
      ]
    },
    {
      "cell_type": "markdown",
      "metadata": {
        "id": "49Ymgeydr7X5"
      },
      "source": [
        "### Dataset"
      ]
    },
    {
      "cell_type": "code",
      "execution_count": 5,
      "metadata": {
        "id": "CMpoT2L6r7X8"
      },
      "outputs": [],
      "source": [
        "covid_conf_ts = pd.read_csv('https://raw.githubusercontent.com/CSSEGISandData/COVID-19/master/csse_covid_19_data/csse_covid_19_time_series/time_series_covid19_confirmed_global.csv')\n",
        "covid_dead_ts = pd.read_csv('https://raw.githubusercontent.com/CSSEGISandData/COVID-19/master/csse_covid_19_data/csse_covid_19_time_series/time_series_covid19_deaths_global.csv')\n",
        "covid_recv_ts = pd.read_csv('https://raw.githubusercontent.com/CSSEGISandData/COVID-19/master/csse_covid_19_data/csse_covid_19_time_series/time_series_covid19_recovered_global.csv')"
      ]
    },
    {
      "cell_type": "markdown",
      "metadata": {
        "id": "TnCbkW8Zr7X_"
      },
      "source": [
        "### Data Processing"
      ]
    },
    {
      "cell_type": "code",
      "execution_count": 6,
      "metadata": {
        "id": "uiIosDsqr7YD"
      },
      "outputs": [],
      "source": [
        "#get data in cleaned time series format for country\n",
        "#returns dataframe with date and total column\n",
        "#when you select a country from the dropdown, this function will prepare the time series for that country and return that as dataframe\n",
        "def process_data(data,cntry='India',window=3):\n",
        "    conf_ts = data\n",
        "    conf_ts_cntry = conf_ts[conf_ts['Country/Region']==cntry]\n",
        "    final_dataset = conf_ts_cntry.T[4:].sum(axis='columns').diff().rolling(window=window).mean()[40:]\n",
        "    df = pd.DataFrame(final_dataset,columns=['Total'])\n",
        "    return df\n",
        "#Here data for the country selected, transposed truncating first 4 rows as they contain some latitude longitude info,\n",
        "#summing all rows of a country (if there are different rows), diff function gives delta between 2 days, rolling function will help to smoothing the graph\n",
        "#so this rolling window is used as the slider\n",
        "#we also need to provide what it needs to do with that rolling window - mean is used so it will give an average of that window"
      ]
    },
    {
      "cell_type": "code",
      "execution_count": 7,
      "metadata": {
        "colab": {
          "base_uri": "https://localhost:8080/"
        },
        "id": "Wqyc529qr7YG",
        "outputId": "e571fe65-5d88-485c-90cf-cadc72f38546"
      },
      "outputs": [
        {
          "output_type": "stream",
          "name": "stdout",
          "text": [
            "Overall Confirmed: 522750289\n",
            "Overall Dead: 6269315\n",
            "Overall Recovered: 0\n"
          ]
        }
      ],
      "source": [
        "#get overall wordlwide total for confirmed, recovered and dead cases\n",
        "def get_overall_total(df):\n",
        "    return df.iloc[:,-1].sum()\n",
        "\n",
        "conf_overall_total = get_overall_total(covid_conf_ts)\n",
        "dead_overall_total = get_overall_total(covid_dead_ts)\n",
        "recv_overall_total = get_overall_total(covid_recv_ts)\n",
        "print('Overall Confirmed:',conf_overall_total)\n",
        "print('Overall Dead:',dead_overall_total)\n",
        "print('Overall Recovered:',recv_overall_total)"
      ]
    },
    {
      "cell_type": "code",
      "execution_count": 8,
      "metadata": {
        "colab": {
          "base_uri": "https://localhost:8080/"
        },
        "id": "2_i_xEBUr7YI",
        "outputId": "1f382190-9e8d-498b-ef6d-7724beb743ec"
      },
      "outputs": [
        {
          "output_type": "stream",
          "name": "stdout",
          "text": [
            "India Confirmed: 43127199\n",
            "India Dead: 524293\n",
            "India Recovered: 0\n"
          ]
        }
      ],
      "source": [
        "#get total for confirmed, recovered and dead for country (similar to overall total)\n",
        "def get_cntry_total(df,cntry='India'):\n",
        "    return df[df['Country/Region']==cntry].iloc[:,-1].sum()\n",
        "\n",
        "cntry = 'India'\n",
        "conf_cntry_total = get_cntry_total(covid_conf_ts,cntry)\n",
        "dead_cntry_total = get_cntry_total(covid_dead_ts,cntry)\n",
        "recv_cntry_total = get_cntry_total(covid_recv_ts,cntry)\n",
        "print(f'{cntry} Confirmed:',conf_cntry_total)\n",
        "print(f'{cntry} Dead:',dead_cntry_total)\n",
        "print(f'{cntry} Recovered:',recv_cntry_total)"
      ]
    },
    {
      "cell_type": "markdown",
      "metadata": {
        "id": "ekulpOSGr7YK"
      },
      "source": [
        "### Generate Line Graph using Plotly"
      ]
    },
    {
      "cell_type": "code",
      "execution_count": 9,
      "metadata": {
        "id": "3tf-1yYLr7YN"
      },
      "outputs": [],
      "source": [
        "#plotly px.line function is used to plot the line chart based on the data frame that is returned from process_data function\n",
        "#also some minor layout changes have been done like centering the title,and giving the page colour and paper colour\n",
        "#also naming the axis o the chart\n",
        "#finally returning as a figure object which will be used by the dash app when we show it on the dash board\n",
        "\n",
        "def fig_world_trend(cntry='India',window=3):\n",
        "    df = process_data(data=covid_conf_ts,cntry=cntry,window=window)\n",
        "    df.head(10)\n",
        "    if window==1:\n",
        "        yaxis_title = \"Daily Cases\"\n",
        "    else:\n",
        "        yaxis_title = \"Daily Cases ({}-day MA)\".format(window)\n",
        "    fig = px.line(df, y='Total', x=df.index, title='Daily confirmed cases trend for {}'.format(cntry),height=600,color_discrete_sequence =['black'])\n",
        "    fig.update_layout(title_x=0.5,plot_bgcolor='#ccffff',paper_bgcolor='#ccffff',xaxis_title=\"Date\",yaxis_title=yaxis_title)\n",
        "    return fig"
      ]
    },
    {
      "cell_type": "markdown",
      "metadata": {
        "id": "nD9TUBubr7YP"
      },
      "source": [
        "### DASH app"
      ]
    },
    {
      "cell_type": "code",
      "execution_count": 10,
      "metadata": {
        "id": "kn2P97jPr7YX"
      },
      "outputs": [],
      "source": [
        "external_stylesheets = [dbc.themes.BOOTSTRAP]\n",
        "#general app that you need to start with\n",
        "app = dash.Dash(__name__, external_stylesheets=external_stylesheets)\n",
        "app.title = 'Covid-19 Dashboard'"
      ]
    },
    {
      "cell_type": "code",
      "execution_count": 11,
      "metadata": {
        "id": "JJp8jHnLr7YZ"
      },
      "outputs": [],
      "source": [
        "colors = {\n",
        "    'background': '#111111',\n",
        "    'bodyColor':'#ccffff',\n",
        "    'text': '#7FDBFF'\n",
        "}\n",
        "def get_page_heading_style():\n",
        "    return {'backgroundColor': colors['background']}\n",
        "\n",
        "\n",
        "def get_page_heading_title():\n",
        "    return html.H1(children='COVID-19 Dashboard',\n",
        "                                        style={\n",
        "                                        'textAlign': 'center',\n",
        "                                        'color': colors['text']\n",
        "                                    })\n",
        "\n",
        "def get_page_heading_subtitle():\n",
        "    return html.Div(children='Visualize Covid-19 data generated from sources all over the world.',\n",
        "                                         style={\n",
        "                                             'textAlign':'center',\n",
        "                                             'color':colors['text']\n",
        "                                         })\n",
        "\n",
        "def generate_page_header():\n",
        "  #the main_header and subtitle_header are dbc components\n",
        "  #the get_page_heading_style function in both main and subtitle is for altering background colour only\n",
        "    main_header =  dbc.Row(\n",
        "                            [\n",
        "                                dbc.Col(get_page_heading_title(),md=12)\n",
        "                            ],\n",
        "                            align=\"center\",\n",
        "                            style=get_page_heading_style()\n",
        "                        )\n",
        "    subtitle_header = dbc.Row(\n",
        "                            [\n",
        "                                dbc.Col(get_page_heading_subtitle(),md=12)\n",
        "                            ],\n",
        "                            align=\"center\",\n",
        "                            style=get_page_heading_style()\n",
        "                        )\n",
        "    #header variable contains 2 dbs rows\n",
        "    header = (main_header,subtitle_header)\n",
        "    return header"
      ]
    },
    {
      "cell_type": "markdown",
      "metadata": {
        "id": "TzNnrGSpr7Yb"
      },
      "source": [
        "### Select Country dropdown"
      ]
    },
    {
      "cell_type": "code",
      "execution_count": 12,
      "metadata": {
        "id": "-g8iGyE-r7Yc"
      },
      "outputs": [],
      "source": [
        "def get_country_list():\n",
        "    return covid_conf_ts['Country/Region'].unique()\n",
        "\n",
        "def create_dropdown_list(cntry_list):\n",
        "    dropdown_list = []\n",
        "    for cntry in sorted(cntry_list):\n",
        "      #dropdown needs {label, value} format\n",
        "        tmp_dict = {'label':cntry,'value':cntry}\n",
        "        dropdown_list.append(tmp_dict)\n",
        "    return dropdown_list\n",
        "\n",
        "#This html div will contain dcc and html components\n",
        "def get_country_dropdown(id):\n",
        "    return html.Div([\n",
        "                        html.Label('Select Country'),\n",
        "                        dcc.Dropdown(id='my-id'+str(id),\n",
        "                            options=create_dropdown_list(get_country_list()),\n",
        "                            value='India'\n",
        "                        ),\n",
        "                        html.Div(id='my-div'+str(id))\n",
        "                    ])"
      ]
    },
    {
      "cell_type": "code",
      "execution_count": 13,
      "metadata": {
        "id": "kFjQaK47r7Ye"
      },
      "outputs": [],
      "source": [
        "#Putting the plotly figure in a dcc container\n",
        "def graph1():\n",
        "    return dcc.Graph(id='graph1',figure=fig_world_trend('India'))"
      ]
    },
    {
      "cell_type": "code",
      "execution_count": 14,
      "metadata": {
        "id": "Ke_UXi_vr7Yg"
      },
      "outputs": [],
      "source": [
        "#this function is used to create the content for a particular card. We have 3 card being shown on the dashboard - recovered, confirmed, dead\n",
        "#\n",
        "def generate_card_content(card_header,card_value,overall_value):\n",
        "    card_head_style = {'textAlign':'center','fontSize':'150%'}\n",
        "    card_body_style = {'textAlign':'center','fontSize':'200%'}\n",
        "    card_header = dbc.CardHeader(card_header,style=card_head_style)\n",
        "    card_body = dbc.CardBody(\n",
        "        [\n",
        "            html.H5(f\"{int(card_value):,}\", className=\"card-title\",style=card_body_style),\n",
        "            html.P(\n",
        "                \"Worlwide: {:,}\".format(overall_value),\n",
        "                className=\"card-text\",style={'textAlign':'center'}\n",
        "            ),\n",
        "        ]\n",
        "    )\n",
        "    card = [card_header,card_body]\n",
        "    return card"
      ]
    },
    {
      "cell_type": "code",
      "execution_count": 15,
      "metadata": {
        "id": "L126TU8gr7Yh"
      },
      "outputs": [],
      "source": [
        "#In this function, the above function is called with 3 times - for recovered, confirmed and dead.\n",
        "def generate_cards(cntry='India'):\n",
        "    conf_cntry_total = get_cntry_total(covid_conf_ts,cntry)\n",
        "    dead_cntry_total = get_cntry_total(covid_dead_ts,cntry)\n",
        "    recv_cntry_total = get_cntry_total(covid_recv_ts,cntry)\n",
        "    cards = html.Div(\n",
        "        [\n",
        "            dbc.Row(\n",
        "                [\n",
        "                    #dbc.Col(dbc.Card(generate_card_content(\"Recovered\",recv_cntry_total,recv_overall_total), color=\"success\", inverse=True),md=dict(size=2,offset=3)),\n",
        "                    dbc.Col(dbc.Card(generate_card_content(\"Confirmed\",conf_cntry_total,conf_overall_total), color=\"warning\", inverse=True),md=dict(size=2, offset=4)),\n",
        "                    dbc.Col(dbc.Card(generate_card_content(\"Dead\",dead_cntry_total,dead_overall_total),color=\"dark\", inverse=True),md=dict(size=2)),\n",
        "                ],\n",
        "                className=\"mb-4\",\n",
        "            ),\n",
        "        ],id='card1'\n",
        "    )\n",
        "    return cards\n",
        "#All these non-helper functions will be used later on in the app layout"
      ]
    },
    {
      "cell_type": "code",
      "execution_count": 16,
      "metadata": {
        "id": "hBkKr5L1r7Yi"
      },
      "outputs": [],
      "source": [
        "def get_slider():\n",
        "    return html.Div([  \n",
        "                        dcc.Slider(\n",
        "                            id='my-slider',\n",
        "                            min=1,\n",
        "                            max=15,\n",
        "                            step=None,\n",
        "                            marks={\n",
        "                                1: '1',\n",
        "                                3: '3',\n",
        "                                5: '5',\n",
        "                                7: '1-Week',\n",
        "                                14: 'Fortnight'\n",
        "                            },\n",
        "                            value=3,\n",
        "                        ),\n",
        "                        html.Div([html.Label('Select Moving Average Window')],id='my-div'+str(id),style={'textAlign':'center'})\n",
        "                    ])"
      ]
    },
    {
      "cell_type": "code",
      "execution_count": 17,
      "metadata": {
        "id": "MkwSEAa9r7Yk"
      },
      "outputs": [],
      "source": [
        "#Now, we are generating the app layout. It will arrange all your components in a particular order\n",
        "def generate_layout():\n",
        "    page_header = generate_page_header()\n",
        "    #assigning a dbc component to the layout variable\n",
        "    layout = dbc.Container(\n",
        "        [\n",
        "            page_header[0], #page title\n",
        "            page_header[1], #page subtitle\n",
        "            html.Hr(), #horizontal break\n",
        "            generate_cards(), #cards\n",
        "            html.Hr(), #horizontal break\n",
        "            dbc.Row(\n",
        "                [\n",
        "                    dbc.Col(get_country_dropdown(id=1),md=dict(size=4,offset=4))                    \n",
        "                ]\n",
        "            \n",
        "            ), #for dropdown\n",
        "            dbc.Row(\n",
        "                [\n",
        "                    dbc.Col(get_slider(),md=dict(size=4,offset=4))                    \n",
        "                ]\n",
        "            \n",
        "            ), #for slider\n",
        "            dbc.Row(\n",
        "                [                \n",
        "                    \n",
        "                    dbc.Col(graph1(),md=dict(size=6,offset=3))\n",
        "        \n",
        "                ],\n",
        "                align=\"center\",\n",
        "\n",
        "            ), #for graph\n",
        "            \n",
        "        ],fluid=True,style={'backgroundColor': colors['bodyColor'] #html options\n",
        "        }\n",
        "    )\n",
        "    return layout\n"
      ]
    },
    {
      "cell_type": "code",
      "execution_count": 18,
      "metadata": {
        "id": "Ijfz-rM9r7Yl"
      },
      "outputs": [],
      "source": [
        "#assigning the generated layout to app.layout\n",
        "app.layout = generate_layout()"
      ]
    },
    {
      "cell_type": "code",
      "execution_count": 19,
      "metadata": {
        "id": "2ZgWqOXmr7Ym"
      },
      "outputs": [],
      "source": [
        "#before we run the server, we need to assign callbacks because we have user interactable elements - dropdown and slider as inputs\n",
        "#based on their values, the outputs - cards and graphs should get update\n",
        "#for this, we use this decorator - @app.callback and assign all your inputs and outputs in lists\n",
        "\n",
        "#then there is update_output_div function to which this decorator is attached and you call the respective functions\n",
        "#which give the outputs that need to be changed with updated values\n",
        "\n",
        "@app.callback(\n",
        "    [Output(component_id='graph1',component_property='figure'), #line chart\n",
        "    Output(component_id='card1',component_property='children')], #overall card numbers\n",
        "    [Input(component_id='my-id1',component_property='value'), #dropdown\n",
        "     Input(component_id='my-slider',component_property='value')] #slider\n",
        ")\n",
        "def update_output_div(input_value1,input_value2):\n",
        "    return fig_world_trend(input_value1,input_value2),generate_cards(input_value1)"
      ]
    },
    {
      "cell_type": "markdown",
      "metadata": {
        "id": "cgzYphU-r7Yn"
      },
      "source": [
        "### Run server"
      ]
    },
    {
      "cell_type": "code",
      "execution_count": null,
      "metadata": {
        "colab": {
          "background_save": true,
          "base_uri": "https://localhost:8080/"
        },
        "id": "mptqud83r7Yo",
        "outputId": "4b1efd2e-bdd0-45ed-c6ff-851ee711aa82"
      },
      "outputs": [
        {
          "output_type": "stream",
          "name": "stdout",
          "text": [
            "Dash is running on http://0.0.0.0:8050/\n",
            "\n",
            " * Serving Flask app \"__main__\" (lazy loading)\n",
            " * Environment: production\n",
            "\u001b[31m   WARNING: This is a development server. Do not use it in a production deployment.\u001b[0m\n",
            "\u001b[2m   Use a production WSGI server instead.\u001b[0m\n",
            " * Debug mode: off\n"
          ]
        },
        {
          "output_type": "stream",
          "name": "stderr",
          "text": [
            " * Running on http://0.0.0.0:8050/ (Press CTRL+C to quit)\n"
          ]
        }
      ],
      "source": [
        "app.run_server(host= '0.0.0.0',debug=False)"
      ]
    },
    {
      "cell_type": "code",
      "execution_count": null,
      "metadata": {
        "id": "xPjoH5yfr7Yq"
      },
      "outputs": [],
      "source": [
        ""
      ]
    }
  ],
  "metadata": {
    "colab": {
      "name": "main.ipynb",
      "provenance": []
    },
    "interpreter": {
      "hash": "ac59ebe37160ed0dfa835113d9b8498d9f09ceb179beaac4002f036b9467c963"
    },
    "kernelspec": {
      "display_name": "Python 3",
      "language": "python",
      "name": "python3"
    },
    "language_info": {
      "codemirror_mode": {
        "name": "ipython",
        "version": 3
      },
      "file_extension": ".py",
      "mimetype": "text/x-python",
      "name": "python",
      "nbconvert_exporter": "python",
      "pygments_lexer": "ipython3",
      "version": "3.8.8"
    }
  },
  "nbformat": 4,
  "nbformat_minor": 0
}